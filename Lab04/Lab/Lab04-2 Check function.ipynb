{
 "cells": [
  {
   "cell_type": "code",
   "execution_count": 95,
   "id": "856e71d8",
   "metadata": {},
   "outputs": [],
   "source": [
    "class Graph():\n",
    "    class Node():\n",
    "        def __init__(self, path):\n",
    "            self.path = path\n",
    "            file = open(self.path,\"r\")\n",
    "            gal = file.read()\n",
    "            result_1 = {}\n",
    "            gal = gal.splitlines()\n",
    "            for i in range(1, len(gal), 2):\n",
    "                id = gal[i].split(' ')[0]\n",
    "                value = gal[i+1].split(' ')\n",
    "                result_1[id] = []\n",
    "                result_1[id] = value\n",
    "            self.result = result_1\n",
    "        \n",
    "        def avg_connectivity(self):\n",
    "            num = {}\n",
    "            for i, value in self.result.items():\n",
    "                num[i] = len(value)\n",
    "            avg = sum(num.values()) / len(num)\n",
    "            return avg\n",
    "        \n",
    "        def max_connectivity(self):\n",
    "            num = {}\n",
    "            for i, value in self.result.items():\n",
    "                num[i] = len(value)\n",
    "            maximum = max(num.values())\n",
    "            key = []\n",
    "            for i,value in num.items():\n",
    "                if value == maximum:\n",
    "                    key.append(i)\n",
    "            return maximum, key\n",
    "        \n",
    "        def min_connectivity(self):\n",
    "            num = {}\n",
    "            for i, value in self.result.items():\n",
    "                num[i] = len(value)\n",
    "            df = []\n",
    "            for value in num.values():\n",
    "                if value > 0:\n",
    "                    df.append(value)\n",
    "            minimum = min(df)\n",
    "            key = []\n",
    "            for i,value in num.items():\n",
    "                if value == minimum:\n",
    "                    key.append(i)\n",
    "            return minimum, key\n",
    "        \n",
    "        def disconnected_nodes(self):\n",
    "            test = []\n",
    "            for id in self.result:\n",
    "                for value in self.result[id]:\n",
    "                    if id in self.result[value]:\n",
    "                        pass\n",
    "                    else:\n",
    "                        test.append([id,value])\n",
    "            if test == []:\n",
    "                return \"There are no islands.\"\n",
    "            else:\n",
    "                return test"
   ]
  },
  {
   "cell_type": "code",
   "execution_count": 96,
   "id": "f2fe13b8",
   "metadata": {},
   "outputs": [
    {
     "name": "stdout",
     "output_type": "stream",
     "text": [
      "4.1020408163265305\n",
      "(9, ['20'])\n",
      "(2, ['1', '6', '31', '39', '42', '46', '47'])\n",
      "[['21', '9']]\n"
     ]
    }
   ],
   "source": [
    "gal = Graph().Node(path = \"lab04-1.gal\")\n",
    "print(gal.avg_connectivity())\n",
    "print(gal.max_connectivity())\n",
    "print(gal.min_connectivity())\n",
    "print(gal.disconnected_nodes())"
   ]
  }
 ],
 "metadata": {
  "kernelspec": {
   "display_name": "Python 3 (ipykernel)",
   "language": "python",
   "name": "python3"
  },
  "language_info": {
   "codemirror_mode": {
    "name": "ipython",
    "version": 3
   },
   "file_extension": ".py",
   "mimetype": "text/x-python",
   "name": "python",
   "nbconvert_exporter": "python",
   "pygments_lexer": "ipython3",
   "version": "3.9.7"
  }
 },
 "nbformat": 4,
 "nbformat_minor": 5
}
