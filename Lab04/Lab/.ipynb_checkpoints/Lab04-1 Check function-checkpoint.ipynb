{
 "cells": [
  {
   "cell_type": "code",
   "execution_count": 69,
   "id": "d6eeaeee",
   "metadata": {},
   "outputs": [],
   "source": [
    "def transform_gal_1(path):\n",
    "    result_1 = {}\n",
    "    file = open(path,\"r\")\n",
    "    gal = file.read()\n",
    "    gal = gal.splitlines()\n",
    "    for i in range(1, len(gal), 2):\n",
    "        id = gal[i].split(' ')[0]\n",
    "        value = gal[i+1].split(' ')\n",
    "        result_1[id] = []\n",
    "        result_1[id] = value\n",
    "    return result_1"
   ]
  },
  {
   "cell_type": "code",
   "execution_count": 70,
   "id": "01816873",
   "metadata": {},
   "outputs": [
    {
     "data": {
      "text/plain": [
       "{'1': ['2', '3'],\n",
       " '2': ['4', '3', '1'],\n",
       " '3': ['5', '4', '2', '1'],\n",
       " '4': ['8', '3', '5', '2'],\n",
       " '5': ['15', '11', '8', '9', '6', '3', '4'],\n",
       " '6': ['9', '5'],\n",
       " '7': ['14', '13', '8'],\n",
       " '8': ['12', '11', '5', '4', '7'],\n",
       " '9': ['26', '22', '15', '10', '6', '5'],\n",
       " '10': ['20', '17', '9'],\n",
       " '11': ['16', '12', '5', '8'],\n",
       " '12': ['16', '14', '13', '11', '8'],\n",
       " '13': ['14', '12', '7'],\n",
       " '14': ['19', '12', '13', '16', '18', '7'],\n",
       " '15': ['25', '16', '5', '9'],\n",
       " '16': ['25', '24', '18', '15', '11', '12', '14'],\n",
       " '17': ['23', '20', '10'],\n",
       " '18': ['24', '19', '16', '14'],\n",
       " '19': ['18', '24', '14'],\n",
       " '20': ['35', '33', '27', '22', '23', '32', '40', '17', '10'],\n",
       " '21': ['34', '24', '30', '9'],\n",
       " '22': ['28', '27', '26', '20', '9'],\n",
       " '23': ['32', '17', '20'],\n",
       " '24': ['30', '25', '16', '18', '21', '19'],\n",
       " '25': ['29', '15', '26', '16', '24'],\n",
       " '26': ['28', '22', '9', '25'],\n",
       " '27': ['33', '28', '20', '22'],\n",
       " '28': ['38', '29', '27', '33', '35', '22', '26'],\n",
       " '29': ['37', '30', '28', '25'],\n",
       " '30': ['37', '29', '24', '21'],\n",
       " '31': ['36', '34'],\n",
       " '32': ['41', '40', '23', '20'],\n",
       " '33': ['35', '20', '27', '28'],\n",
       " '34': ['42', '36', '21', '31'],\n",
       " '35': ['44', '38', '20', '33', '28'],\n",
       " '36': ['46', '39', '34', '42', '31'],\n",
       " '37': ['45', '38', '43', '29', '30'],\n",
       " '38': ['43', '35', '28', '37'],\n",
       " '39': ['46', '36'],\n",
       " '40': ['47', '41', '32', '20'],\n",
       " '41': ['47', '32', '40'],\n",
       " '42': ['34', '36'],\n",
       " '43': ['48', '45', '44', '38', '37'],\n",
       " '44': ['49', '48', '35', '43'],\n",
       " '45': ['48', '49', '37', '43'],\n",
       " '46': ['36', '39'],\n",
       " '47': ['40', '41'],\n",
       " '48': ['49', '44', '43', '45'],\n",
       " '49': ['44', '48', '45']}"
      ]
     },
     "execution_count": 70,
     "metadata": {},
     "output_type": "execute_result"
    }
   ],
   "source": [
    "transform_gal_1(\"lab04-1.gal\")"
   ]
  },
  {
   "cell_type": "code",
   "execution_count": 88,
   "id": "d0d26dd4",
   "metadata": {},
   "outputs": [],
   "source": [
    "def transform_gal_2(path):\n",
    "# transform_gal_1(path)\n",
    "    result_1 = {}\n",
    "    file = open(path,\"r\")\n",
    "    gal = file.read()\n",
    "    gal = gal.splitlines()\n",
    "    for i in range(1, len(gal), 2):\n",
    "        id = gal[i].split(' ')[0]\n",
    "        value = gal[i+1].split(' ')\n",
    "        result_1[id] = []\n",
    "        result_1[id] = value\n",
    "        \n",
    "# new part\n",
    "    result_2 = {}\n",
    "    num = {}\n",
    "    for id, value in result_1.items():\n",
    "        num[id] = len(value)\n",
    "    for id, value in result_1.items():\n",
    "        result_2[len(value)] = []\n",
    "        for i, n in num.items():\n",
    "            if n == len(value):\n",
    "                result_2[len(value)].append(i)\n",
    "            else:\n",
    "                pass\n",
    "    return result_2"
   ]
  },
  {
   "cell_type": "code",
   "execution_count": 89,
   "id": "a26fa631",
   "metadata": {},
   "outputs": [
    {
     "data": {
      "text/plain": [
       "{2: ['1', '6', '31', '39', '42', '46', '47'],\n",
       " 3: ['2', '7', '10', '13', '17', '19', '23', '41', '49'],\n",
       " 4: ['3',\n",
       "  '4',\n",
       "  '11',\n",
       "  '15',\n",
       "  '18',\n",
       "  '21',\n",
       "  '26',\n",
       "  '27',\n",
       "  '29',\n",
       "  '30',\n",
       "  '32',\n",
       "  '33',\n",
       "  '34',\n",
       "  '38',\n",
       "  '40',\n",
       "  '44',\n",
       "  '45',\n",
       "  '48'],\n",
       " 7: ['5', '16', '28'],\n",
       " 5: ['8', '12', '22', '25', '35', '36', '37', '43'],\n",
       " 6: ['9', '14', '24'],\n",
       " 9: ['20']}"
      ]
     },
     "execution_count": 89,
     "metadata": {},
     "output_type": "execute_result"
    }
   ],
   "source": [
    "transform_gal_2(\"lab04-1.gal\")"
   ]
  },
  {
   "cell_type": "code",
   "execution_count": 111,
   "id": "7119acb9",
   "metadata": {},
   "outputs": [],
   "source": [
    "def asymmetries(path):\n",
    "# transform_gal_1(path)\n",
    "    result_1 = {}\n",
    "    file = open(path,\"r\")\n",
    "    gal = file.read()\n",
    "    gal = gal.splitlines()\n",
    "    for i in range(1, len(gal), 2):\n",
    "        id = gal[i].split(' ')[0]\n",
    "        value = gal[i+1].split(' ')\n",
    "        result_1[id] = []\n",
    "        result_1[id] = value\n",
    "\n",
    "# new part\n",
    "    test = []\n",
    "    for id in result_1:\n",
    "        for value in result_1[id]:\n",
    "            if id in result_1[value]:\n",
    "                pass\n",
    "            else:\n",
    "                test.append([id,value])\n",
    "    if test == []:\n",
    "        print(\"There is no asymmetries.\")\n",
    "    else:\n",
    "        print(\"Asymmetries exists in %s\" %test)"
   ]
  },
  {
   "cell_type": "code",
   "execution_count": 112,
   "id": "56f592f3",
   "metadata": {},
   "outputs": [
    {
     "name": "stdout",
     "output_type": "stream",
     "text": [
      "Asymmetries exists in [['21', '9']]\n"
     ]
    }
   ],
   "source": [
    "asymmetries(\"lab04-1.gal\")"
   ]
  }
 ],
 "metadata": {
  "kernelspec": {
   "display_name": "Python 3 (ipykernel)",
   "language": "python",
   "name": "python3"
  },
  "language_info": {
   "codemirror_mode": {
    "name": "ipython",
    "version": 3
   },
   "file_extension": ".py",
   "mimetype": "text/x-python",
   "name": "python",
   "nbconvert_exporter": "python",
   "pygments_lexer": "ipython3",
   "version": "3.9.7"
  }
 },
 "nbformat": 4,
 "nbformat_minor": 5
}
