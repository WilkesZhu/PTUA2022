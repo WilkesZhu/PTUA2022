{
 "cells": [
  {
   "cell_type": "code",
   "execution_count": 43,
   "id": "856e71d8",
   "metadata": {},
   "outputs": [],
   "source": [
    "class Graph():\n",
    "    class Node():\n",
    "        def __init__(self, path):\n",
    "            self.path = path\n",
    "\n",
    "        def read_gal(self):\n",
    "            file = open(self.path,\"r\")\n",
    "            gal = file.read()\n",
    "            return gal\n",
    "        \n",
    "        def transform_gal_1(self):\n",
    "            file = open(self.path,\"r\")\n",
    "            gal = file.read()\n",
    "            result_1 = {}\n",
    "            gal = gal.splitlines()\n",
    "            for i in range(1, len(gal), 2):\n",
    "                id = gal[i].split(' ')[0]\n",
    "                value = gal[i+1].split(' ')\n",
    "                result_1[id] = []\n",
    "                result_1[id] = value\n",
    "            return result_1\n",
    "        \n",
    "        def avg_connectivity(self):\n",
    "            # transform_gal_1(self)\n",
    "            file = open(self.path,\"r\")\n",
    "            gal = file.read()\n",
    "            result_1 = {}\n",
    "            gal = gal.splitlines()\n",
    "            for i in range(1, len(gal), 2):\n",
    "                id = gal[i].split(' ')[0]\n",
    "                value = gal[i+1].split(' ')\n",
    "                result_1[id] = []\n",
    "                result_1[id] = value\n",
    "            return result_1\n",
    "        \n",
    "            # new part\n",
    "            num = []\n",
    "            for i, value in result_1.items():\n",
    "                num[i] = len(value)\n",
    "            avg = sum(num.values()) / len(num)\n",
    "            return avg\n",
    "                \n",
    "            "
   ]
  },
  {
   "cell_type": "code",
   "execution_count": 44,
   "id": "f2fe13b8",
   "metadata": {},
   "outputs": [
    {
     "data": {
      "text/plain": [
       "{'1': ['2', '3'],\n",
       " '2': ['4', '3', '1'],\n",
       " '3': ['5', '4', '2', '1'],\n",
       " '4': ['8', '3', '5', '2'],\n",
       " '5': ['15', '11', '8', '9', '6', '3', '4'],\n",
       " '6': ['9', '5'],\n",
       " '7': ['14', '13', '8'],\n",
       " '8': ['12', '11', '5', '4', '7'],\n",
       " '9': ['26', '22', '15', '10', '6', '5'],\n",
       " '10': ['20', '17', '9'],\n",
       " '11': ['16', '12', '5', '8'],\n",
       " '12': ['16', '14', '13', '11', '8'],\n",
       " '13': ['14', '12', '7'],\n",
       " '14': ['19', '12', '13', '16', '18', '7'],\n",
       " '15': ['25', '16', '5', '9'],\n",
       " '16': ['25', '24', '18', '15', '11', '12', '14'],\n",
       " '17': ['23', '20', '10'],\n",
       " '18': ['24', '19', '16', '14'],\n",
       " '19': ['18', '24', '14'],\n",
       " '20': ['35', '33', '27', '22', '23', '32', '40', '17', '10'],\n",
       " '21': ['34', '24', '30', '9'],\n",
       " '22': ['28', '27', '26', '20', '9'],\n",
       " '23': ['32', '17', '20'],\n",
       " '24': ['30', '25', '16', '18', '21', '19'],\n",
       " '25': ['29', '15', '26', '16', '24'],\n",
       " '26': ['28', '22', '9', '25'],\n",
       " '27': ['33', '28', '20', '22'],\n",
       " '28': ['38', '29', '27', '33', '35', '22', '26'],\n",
       " '29': ['37', '30', '28', '25'],\n",
       " '30': ['37', '29', '24', '21'],\n",
       " '31': ['36', '34'],\n",
       " '32': ['41', '40', '23', '20'],\n",
       " '33': ['35', '20', '27', '28'],\n",
       " '34': ['42', '36', '21', '31'],\n",
       " '35': ['44', '38', '20', '33', '28'],\n",
       " '36': ['46', '39', '34', '42', '31'],\n",
       " '37': ['45', '38', '43', '29', '30'],\n",
       " '38': ['43', '35', '28', '37'],\n",
       " '39': ['46', '36'],\n",
       " '40': ['47', '41', '32', '20'],\n",
       " '41': ['47', '32', '40'],\n",
       " '42': ['34', '36'],\n",
       " '43': ['48', '45', '44', '38', '37'],\n",
       " '44': ['49', '48', '35', '43'],\n",
       " '45': ['48', '49', '37', '43'],\n",
       " '46': ['36', '39'],\n",
       " '47': ['40', '41'],\n",
       " '48': ['49', '44', '43', '45'],\n",
       " '49': ['44', '48', '45']}"
      ]
     },
     "execution_count": 44,
     "metadata": {},
     "output_type": "execute_result"
    }
   ],
   "source": [
    "a = Graph().Node(path = \"lab04-1.gal\")\n",
    "a.avg_connectivity()"
   ]
  },
  {
   "cell_type": "code",
   "execution_count": null,
   "id": "937e390c",
   "metadata": {},
   "outputs": [],
   "source": []
  }
 ],
 "metadata": {
  "kernelspec": {
   "display_name": "Python 3 (ipykernel)",
   "language": "python",
   "name": "python3"
  },
  "language_info": {
   "codemirror_mode": {
    "name": "ipython",
    "version": 3
   },
   "file_extension": ".py",
   "mimetype": "text/x-python",
   "name": "python",
   "nbconvert_exporter": "python",
   "pygments_lexer": "ipython3",
   "version": "3.9.7"
  }
 },
 "nbformat": 4,
 "nbformat_minor": 5
}
