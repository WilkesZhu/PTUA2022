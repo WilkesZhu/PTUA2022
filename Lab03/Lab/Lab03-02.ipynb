{
 "cells": [
  {
   "cell_type": "code",
   "execution_count": 35,
   "id": "a582b14a",
   "metadata": {},
   "outputs": [],
   "source": [
    "import random\n",
    "import math\n",
    "import numpy as np\n",
    "pi = math.pi"
   ]
  },
  {
   "cell_type": "code",
   "execution_count": 3,
   "id": "179b10dd",
   "metadata": {},
   "outputs": [],
   "source": [
    "convergence1 = 0.01\n",
    "convergence2 = 0.001\n",
    "convergence3 = 0.0001\n",
    "convergence4 = 0.00001"
   ]
  },
  {
   "cell_type": "code",
   "execution_count": 39,
   "id": "52a045cc",
   "metadata": {},
   "outputs": [
    {
     "name": "stdout",
     "output_type": "stream",
     "text": [
      "3.111111111111111\n",
      "3.142857142857143\n",
      "3.125\n",
      "3.1515151515151514\n",
      "3.1515151515151514\n",
      "3.1641791044776117\n",
      "3.1724137931034484\n",
      "3.1596638655462184\n",
      "3.1666666666666665\n",
      "3.1404958677685952\n",
      "Draws needed:  121\n",
      "Standard deviation is 0.018266404376503915\n"
     ]
    }
   ],
   "source": [
    "n = 0 # number of points falling in the unit circle\n",
    "d = 0 # number of points falling in the unit square\n",
    "i = 0\n",
    "pi_list1 = []\n",
    "simulating = True # use as a sentinel\n",
    "while simulating:\n",
    "    x = random.random()\n",
    "    y = random.random()\n",
    "    if x**2 + y**2 <= 1.0:\n",
    "        n += 1\n",
    "    d += 1\n",
    "    ratio = 4 * n * 1./d\n",
    "    if abs(ratio-pi) / pi <= convergence1:\n",
    "        print(ratio)\n",
    "        pi_list1.append(ratio)\n",
    "        i += 1\n",
    "    if i == 10:\n",
    "        print(\"Draws needed: \", d)\n",
    "        break\n",
    "print(\"Standard deviation is\",np.std(pi_list1))"
   ]
  },
  {
   "cell_type": "code",
   "execution_count": 40,
   "id": "28c88d8e",
   "metadata": {},
   "outputs": [
    {
     "name": "stdout",
     "output_type": "stream",
     "text": [
      "3.140740740740741\n",
      "3.143911439114391\n",
      "3.1386861313868613\n",
      "3.1418181818181816\n",
      "3.139784946236559\n",
      "3.142857142857143\n",
      "3.140845070422535\n",
      "3.143859649122807\n",
      "3.141868512110727\n",
      "3.140939597315436\n",
      "Draws needed:  298\n",
      "Standard deviation is 0.013431291535110452\n"
     ]
    }
   ],
   "source": [
    "n = 0 # number of points falling in the unit circle\n",
    "d = 0 # number of points falling in the unit square\n",
    "i = 0\n",
    "simulating = True # use as a sentinel\n",
    "while simulating:\n",
    "    x = random.random()\n",
    "    y = random.random()\n",
    "    if x**2 + y**2 <= 1.0:\n",
    "        n += 1\n",
    "    d += 1\n",
    "    ratio = 4 * n * 1./d\n",
    "    if abs(ratio-pi) / pi <= convergence2:\n",
    "        print(ratio)\n",
    "        pi_list1.append(ratio)\n",
    "        i += 1\n",
    "    if i == 10:\n",
    "        print(\"Draws needed: \", d)\n",
    "        break\n",
    "print(\"Standard deviation is\",np.std(pi_list1))"
   ]
  },
  {
   "cell_type": "code",
   "execution_count": 41,
   "id": "25bb1ae5",
   "metadata": {},
   "outputs": [
    {
     "name": "stdout",
     "output_type": "stream",
     "text": [
      "3.1413237924865833\n",
      "3.141843971631206\n",
      "3.1415797317436662\n",
      "3.1417004048582995\n",
      "3.1413333333333333\n",
      "3.141742522756827\n",
      "3.141388174807198\n",
      "3.1414141414141414\n",
      "3.1414634146341465\n",
      "3.141868512110727\n",
      "Draws needed:  867\n",
      "Standard deviation is 0.011088569797125997\n"
     ]
    }
   ],
   "source": [
    "n = 0 # number of points falling in the unit circle\n",
    "d = 0 # number of points falling in the unit square\n",
    "i = 0\n",
    "simulating = True # use as a sentinel\n",
    "while simulating:\n",
    "    x = random.random()\n",
    "    y = random.random()\n",
    "    if x**2 + y**2 <= 1.0:\n",
    "        n += 1\n",
    "    d += 1\n",
    "    ratio = 4 * n * 1./d\n",
    "    if abs(ratio-pi) / pi <= convergence3:\n",
    "        print(ratio)\n",
    "        pi_list1.append(ratio)\n",
    "        i += 1\n",
    "    if i == 10:\n",
    "        print(\"Draws needed: \", d)\n",
    "        break\n",
    "print(\"Standard deviation is\",np.std(pi_list1))"
   ]
  },
  {
   "cell_type": "code",
   "execution_count": 42,
   "id": "2a6328ae",
   "metadata": {},
   "outputs": [
    {
     "name": "stdout",
     "output_type": "stream",
     "text": [
      "3.1416038690810932\n",
      "3.141573033707865\n",
      "3.141605839416058\n",
      "3.1416078035654222\n",
      "3.141600163699611\n",
      "3.1415618078137517\n",
      "3.141569898959433\n",
      "3.1415779899525904\n",
      "3.141564561734213\n",
      "3.141565924754265\n",
      "Draws needed:  106212\n",
      "Standard deviation is 0.009654336481713944\n"
     ]
    }
   ],
   "source": [
    "n = 0 # number of points falling in the unit circle\n",
    "d = 0 # number of points falling in the unit square\n",
    "i = 0\n",
    "simulating = True # use as a sentinel\n",
    "while simulating:\n",
    "    x = random.random()\n",
    "    y = random.random()\n",
    "    if x**2 + y**2 <= 1.0:\n",
    "        n += 1\n",
    "    d += 1\n",
    "    ratio = 4 * n * 1./d\n",
    "    if abs(ratio-pi) / pi <= convergence4:\n",
    "        print(ratio)\n",
    "        pi_list1.append(ratio)\n",
    "        i += 1\n",
    "    if i == 10:\n",
    "        print(\"Draws needed: \", d)\n",
    "        break\n",
    "print(\"Standard deviation is\",np.std(pi_list1))"
   ]
  },
  {
   "cell_type": "code",
   "execution_count": null,
   "id": "d0fb9f93",
   "metadata": {},
   "outputs": [],
   "source": []
  }
 ],
 "metadata": {
  "kernelspec": {
   "display_name": "Python 3 (ipykernel)",
   "language": "python",
   "name": "python3"
  },
  "language_info": {
   "codemirror_mode": {
    "name": "ipython",
    "version": 3
   },
   "file_extension": ".py",
   "mimetype": "text/x-python",
   "name": "python",
   "nbconvert_exporter": "python",
   "pygments_lexer": "ipython3",
   "version": "3.9.7"
  }
 },
 "nbformat": 4,
 "nbformat_minor": 5
}
