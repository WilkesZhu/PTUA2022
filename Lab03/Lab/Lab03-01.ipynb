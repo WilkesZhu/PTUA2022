{
 "cells": [
  {
   "cell_type": "markdown",
   "id": "1574bfb9",
   "metadata": {},
   "source": [
    "# Exercises 1-2 of chapter 2"
   ]
  },
  {
   "cell_type": "markdown",
   "id": "ba461a1d",
   "metadata": {},
   "source": [
    "## Exercise 1"
   ]
  },
  {
   "cell_type": "code",
   "execution_count": 1,
   "id": "c65bad57",
   "metadata": {},
   "outputs": [
    {
     "ename": "SyntaxError",
     "evalue": "cannot assign to literal (Temp/ipykernel_22804/3090476294.py, line 1)",
     "output_type": "error",
     "traceback": [
      "\u001b[1;36m  File \u001b[1;32m\"C:\\Users\\Wilkes\\AppData\\Local\\Temp/ipykernel_22804/3090476294.py\"\u001b[1;36m, line \u001b[1;32m1\u001b[0m\n\u001b[1;33m    42 = n\u001b[0m\n\u001b[1;37m    ^\u001b[0m\n\u001b[1;31mSyntaxError\u001b[0m\u001b[1;31m:\u001b[0m cannot assign to literal\n"
     ]
    }
   ],
   "source": [
    "42 = n"
   ]
  },
  {
   "cell_type": "code",
   "execution_count": 2,
   "id": "ea9fa66d",
   "metadata": {},
   "outputs": [],
   "source": [
    "x = y = 1"
   ]
  },
  {
   "cell_type": "code",
   "execution_count": 3,
   "id": "f91474a6",
   "metadata": {},
   "outputs": [
    {
     "name": "stdout",
     "output_type": "stream",
     "text": [
      "1\n"
     ]
    }
   ],
   "source": [
    "x = 1;\n",
    "print (x);"
   ]
  },
  {
   "cell_type": "code",
   "execution_count": 23,
   "id": "fb3c75fd",
   "metadata": {},
   "outputs": [
    {
     "ename": "SyntaxError",
     "evalue": "invalid syntax (Temp/ipykernel_9496/2852241575.py, line 2)",
     "output_type": "error",
     "traceback": [
      "\u001b[1;36m  File \u001b[1;32m\"C:\\Users\\Wilkes\\AppData\\Local\\Temp/ipykernel_9496/2852241575.py\"\u001b[1;36m, line \u001b[1;32m2\u001b[0m\n\u001b[1;33m    print (x).\u001b[0m\n\u001b[1;37m              ^\u001b[0m\n\u001b[1;31mSyntaxError\u001b[0m\u001b[1;31m:\u001b[0m invalid syntax\n"
     ]
    }
   ],
   "source": [
    "x = 1.\n",
    "print (x)."
   ]
  },
  {
   "cell_type": "code",
   "execution_count": 24,
   "id": "adddd043",
   "metadata": {},
   "outputs": [
    {
     "ename": "SyntaxError",
     "evalue": "invalid syntax (Temp/ipykernel_9496/1567273689.py, line 1)",
     "output_type": "error",
     "traceback": [
      "\u001b[1;36m  File \u001b[1;32m\"C:\\Users\\Wilkes\\AppData\\Local\\Temp/ipykernel_9496/1567273689.py\"\u001b[1;36m, line \u001b[1;32m1\u001b[0m\n\u001b[1;33m    x y\u001b[0m\n\u001b[1;37m      ^\u001b[0m\n\u001b[1;31mSyntaxError\u001b[0m\u001b[1;31m:\u001b[0m invalid syntax\n"
     ]
    }
   ],
   "source": [
    "x y"
   ]
  },
  {
   "cell_type": "markdown",
   "id": "2c9bba73",
   "metadata": {},
   "source": [
    "## Exercise 2"
   ]
  },
  {
   "cell_type": "markdown",
   "id": "e26eae4c",
   "metadata": {},
   "source": [
    "### 1"
   ]
  },
  {
   "cell_type": "code",
   "execution_count": 25,
   "id": "16c4b79f",
   "metadata": {},
   "outputs": [
    {
     "name": "stdout",
     "output_type": "stream",
     "text": [
      "37.69911184307752\n"
     ]
    }
   ],
   "source": [
    "import math\n",
    "r = 3\n",
    "V = 4/3 * math.pi * (r**2)\n",
    "print (V)"
   ]
  },
  {
   "cell_type": "markdown",
   "id": "d662cdff",
   "metadata": {},
   "source": [
    "### 2"
   ]
  },
  {
   "cell_type": "code",
   "execution_count": 28,
   "id": "d4bc1608",
   "metadata": {},
   "outputs": [
    {
     "name": "stdout",
     "output_type": "stream",
     "text": [
      "945.45\n"
     ]
    }
   ],
   "source": [
    "n = 60\n",
    "price = 24.95 * (1-0.4)\n",
    "shipping = 3 + 0.75 * (n-1)\n",
    "wholecost = price * n + shipping\n",
    "print (\"%.2f\"%wholecost)"
   ]
  },
  {
   "cell_type": "markdown",
   "id": "c488bbfc",
   "metadata": {},
   "source": [
    "### 3"
   ]
  },
  {
   "cell_type": "code",
   "execution_count": 33,
   "id": "90936283",
   "metadata": {},
   "outputs": [
    {
     "name": "stdout",
     "output_type": "stream",
     "text": [
      "07:30:06 am\n"
     ]
    }
   ],
   "source": [
    "way_seconds = 2 * (8*60 + 15) + 3 * (7*60 + 12)\n",
    "origin_time_seconds = 6 * 3600 + 52 * 60\n",
    "final_time_seconds = way_seconds + origin_time_seconds\n",
    "m, s = divmod(final_time_seconds, 60)\n",
    "h, m = divmod(m, 60)\n",
    "print (\"%02d:%02d:%02d am\" % (h, m, s))"
   ]
  },
  {
   "cell_type": "markdown",
   "id": "c0fe07fc",
   "metadata": {},
   "source": [
    "# Exercises 1-5 of chapter 8"
   ]
  },
  {
   "cell_type": "markdown",
   "id": "44089f7c",
   "metadata": {},
   "source": [
    "## Exercise 1"
   ]
  },
  {
   "cell_type": "code",
   "execution_count": 3,
   "id": "4d385f52",
   "metadata": {},
   "outputs": [
    {
     "data": {
      "text/plain": [
       "'Hello World'"
      ]
     },
     "execution_count": 3,
     "metadata": {},
     "output_type": "execute_result"
    }
   ],
   "source": [
    "# test strip\n",
    "' ##.,!   Hello World## '.strip('.,#! ')"
   ]
  },
  {
   "cell_type": "code",
   "execution_count": 2,
   "id": "cd158201",
   "metadata": {},
   "outputs": [
    {
     "data": {
      "text/plain": [
       "'An apple a aay'"
      ]
     },
     "execution_count": 2,
     "metadata": {},
     "output_type": "execute_result"
    }
   ],
   "source": [
    "# test replace\n",
    "'An dpple a day'.replace('d','a')"
   ]
  },
  {
   "cell_type": "markdown",
   "id": "9a6feab1",
   "metadata": {},
   "source": [
    "## Exercise 2"
   ]
  },
  {
   "cell_type": "code",
   "execution_count": 1,
   "id": "522ad92b",
   "metadata": {},
   "outputs": [
    {
     "name": "stdout",
     "output_type": "stream",
     "text": [
      "3\n"
     ]
    }
   ],
   "source": [
    "word = 'banana'\n",
    "count = 0\n",
    "for letter in word:\n",
    "    if letter == 'a':\n",
    "        count = count + 1\n",
    "print(count)"
   ]
  },
  {
   "cell_type": "markdown",
   "id": "5ddf1d30",
   "metadata": {},
   "source": [
    "## Exercise 3"
   ]
  },
  {
   "cell_type": "code",
   "execution_count": 15,
   "id": "2306bfca",
   "metadata": {},
   "outputs": [
    {
     "data": {
      "text/plain": [
       "True"
      ]
     },
     "execution_count": 15,
     "metadata": {},
     "output_type": "execute_result"
    }
   ],
   "source": [
    "def is_palindrome(word):\n",
    "    if word == word[::-1]:\n",
    "        return True\n",
    "    else:\n",
    "        return False"
   ]
  },
  {
   "cell_type": "code",
   "execution_count": 16,
   "id": "5dfea3c2",
   "metadata": {},
   "outputs": [
    {
     "data": {
      "text/plain": [
       "True"
      ]
     },
     "execution_count": 16,
     "metadata": {},
     "output_type": "execute_result"
    }
   ],
   "source": [
    "is_palindrome('noon')"
   ]
  },
  {
   "cell_type": "code",
   "execution_count": 17,
   "id": "442ccbe0",
   "metadata": {},
   "outputs": [
    {
     "data": {
      "text/plain": [
       "False"
      ]
     },
     "execution_count": 17,
     "metadata": {},
     "output_type": "execute_result"
    }
   ],
   "source": [
    "is_palindrome('apple')"
   ]
  },
  {
   "cell_type": "markdown",
   "id": "e058f03b",
   "metadata": {},
   "source": [
    "## Exercise 4"
   ]
  },
  {
   "cell_type": "markdown",
   "id": "70c22d67",
   "metadata": {},
   "source": [
    "any_lowercase1(s): check whether all the letters are in lower case</br>\n",
    "any_lowercase2(s): check whether the letter of string 'c' is in lower case, which is definitely true</br>\n",
    "any_lowercase3(s): check whether all the letters are in lower case</br>\n",
    "any_lowercase4(s): check whether the last two letters of string contain lower case letters</br>\n",
    "any_lowercase5(s): check whether all the letters are in lower case</br>"
   ]
  },
  {
   "cell_type": "markdown",
   "id": "faa590fe",
   "metadata": {},
   "source": [
    "## Exercise 5"
   ]
  },
  {
   "cell_type": "code",
   "execution_count": 1,
   "id": "48442575",
   "metadata": {},
   "outputs": [
    {
     "name": "stdout",
     "output_type": "stream",
     "text": [
      "jolly\n",
      "Jolly\n"
     ]
    }
   ],
   "source": [
    "def rotate_word(word, number):\n",
    "    i = 0\n",
    "    for letter in word:\n",
    "        letter_number = ord(letter) + number\n",
    "        letter_new = chr(letter_number)\n",
    "        if i == 0:\n",
    "            rotate_word = letter_new\n",
    "            letter0 = rotate_word\n",
    "            i = i+1\n",
    "        else:\n",
    "            rotate_word = letter0 + letter_new\n",
    "            letter0 = rotate_word\n",
    "    print (rotate_word)\n",
    "rotate_word('cheer',7)\n",
    "rotate_word('Cheer',7)"
   ]
  },
  {
   "cell_type": "code",
   "execution_count": null,
   "id": "de46219c",
   "metadata": {},
   "outputs": [],
   "source": []
  }
 ],
 "metadata": {
  "kernelspec": {
   "display_name": "Python 3 (ipykernel)",
   "language": "python",
   "name": "python3"
  },
  "language_info": {
   "codemirror_mode": {
    "name": "ipython",
    "version": 3
   },
   "file_extension": ".py",
   "mimetype": "text/x-python",
   "name": "python",
   "nbconvert_exporter": "python",
   "pygments_lexer": "ipython3",
   "version": "3.9.7"
  }
 },
 "nbformat": 4,
 "nbformat_minor": 5
}
